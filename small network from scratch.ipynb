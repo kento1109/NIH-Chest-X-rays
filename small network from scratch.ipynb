{
 "cells": [
  {
   "cell_type": "markdown",
   "metadata": {},
   "source": [
    "## load img data"
   ]
  },
  {
   "cell_type": "code",
   "execution_count": 1,
   "metadata": {},
   "outputs": [
    {
     "name": "stderr",
     "output_type": "stream",
     "text": [
      "Using TensorFlow backend.\n"
     ]
    }
   ],
   "source": [
    "from keras.preprocessing.image import ImageDataGenerator"
   ]
  },
  {
   "cell_type": "code",
   "execution_count": 2,
   "metadata": {},
   "outputs": [
    {
     "data": {
      "text/html": [
       "<div>\n",
       "<style scoped>\n",
       "    .dataframe tbody tr th:only-of-type {\n",
       "        vertical-align: middle;\n",
       "    }\n",
       "\n",
       "    .dataframe tbody tr th {\n",
       "        vertical-align: top;\n",
       "    }\n",
       "\n",
       "    .dataframe thead th {\n",
       "        text-align: right;\n",
       "    }\n",
       "</style>\n",
       "<table border=\"1\" class=\"dataframe\">\n",
       "  <thead>\n",
       "    <tr style=\"text-align: right;\">\n",
       "      <th></th>\n",
       "      <th>Image Index</th>\n",
       "      <th>Emphysema</th>\n",
       "    </tr>\n",
       "  </thead>\n",
       "  <tbody>\n",
       "    <tr>\n",
       "      <th>0</th>\n",
       "      <td>00000009_000.png</td>\n",
       "      <td>1</td>\n",
       "    </tr>\n",
       "    <tr>\n",
       "      <th>1</th>\n",
       "      <td>00000013_041.png</td>\n",
       "      <td>1</td>\n",
       "    </tr>\n",
       "    <tr>\n",
       "      <th>2</th>\n",
       "      <td>00000013_042.png</td>\n",
       "      <td>1</td>\n",
       "    </tr>\n",
       "    <tr>\n",
       "      <th>3</th>\n",
       "      <td>00000027_000.png</td>\n",
       "      <td>1</td>\n",
       "    </tr>\n",
       "    <tr>\n",
       "      <th>4</th>\n",
       "      <td>00000034_000.png</td>\n",
       "      <td>1</td>\n",
       "    </tr>\n",
       "  </tbody>\n",
       "</table>\n",
       "</div>"
      ],
      "text/plain": [
       "        Image Index  Emphysema\n",
       "0  00000009_000.png          1\n",
       "1  00000013_041.png          1\n",
       "2  00000013_042.png          1\n",
       "3  00000027_000.png          1\n",
       "4  00000034_000.png          1"
      ]
     },
     "execution_count": 2,
     "metadata": {},
     "output_type": "execute_result"
    }
   ],
   "source": [
    "import pandas as pd\n",
    "data_df = pd.read_csv('../outputs/target_idx.csv')\n",
    "data_df.head()"
   ]
  },
  {
   "cell_type": "code",
   "execution_count": 3,
   "metadata": {},
   "outputs": [
    {
     "name": "stdout",
     "output_type": "stream",
     "text": [
      "Found 1669 images belonging to 2 classes.\n",
      "Found 223 images belonging to 2 classes.\n"
     ]
    }
   ],
   "source": [
    "datagen=ImageDataGenerator(rescale=1./255., validation_split=0.1)\n",
    "\n",
    "img_dir = \"../inputs/images/\"\n",
    "\n",
    "train_generator=datagen.flow_from_dataframe(\n",
    "                            dataframe=data_df,\n",
    "                            directory=img_dir,\n",
    "                            x_col=\"Image Index\",\n",
    "                            y_col=\"Emphysema\",\n",
    "                            has_ext=True,                                      \n",
    "                            subset=\"training\",\n",
    "                            batch_size=32,\n",
    "                            seed=1,\n",
    "                            shuffle=True,\n",
    "                            color_mode = 'rgb',\n",
    "                            class_mode=\"binary\",\n",
    "                            target_size=(512, 512))\n",
    "\n",
    "valid_generator=datagen.flow_from_dataframe(\n",
    "                            dataframe=data_df,\n",
    "                            directory=img_dir,\n",
    "                            x_col=\"Image Index\",\n",
    "                            y_col=\"Emphysema\",\n",
    "                            has_ext=True,                                      \n",
    "                            subset=\"validation\",\n",
    "                            batch_size=32,\n",
    "                            seed=1,\n",
    "                            shuffle=True,\n",
    "                            color_mode = 'rgb',\n",
    "                            class_mode=\"binary\",\n",
    "                            target_size=(512, 512))"
   ]
  },
  {
   "cell_type": "code",
   "execution_count": 4,
   "metadata": {},
   "outputs": [],
   "source": [
    "from keras.models import Sequential\n",
    "from keras.layers import Conv2D, MaxPooling2D\n",
    "from keras.layers import Activation, Dropout, Flatten, Dense"
   ]
  },
  {
   "cell_type": "code",
   "execution_count": 5,
   "metadata": {},
   "outputs": [],
   "source": [
    "model = Sequential()\n",
    "model.add(Conv2D(32, (3, 3), input_shape=(512, 512, 3)))\n",
    "model.add(Activation('relu'))\n",
    "model.add(MaxPooling2D(pool_size=(2, 2)))\n",
    "\n",
    "model.add(Conv2D(32, (3, 3)))\n",
    "model.add(Activation('relu'))\n",
    "model.add(MaxPooling2D(pool_size=(2, 2)))\n",
    "\n",
    "model.add(Conv2D(64, (3, 3)))\n",
    "model.add(Activation('relu'))\n",
    "model.add(MaxPooling2D(pool_size=(2, 2)))\n",
    "\n",
    "model.add(Flatten())\n",
    "model.add(Dense(64))\n",
    "model.add(Activation('relu'))\n",
    "model.add(Dropout(0.5))\n",
    "model.add(Dense(1))\n",
    "model.add(Activation('sigmoid'))\n",
    "\n",
    "model.compile(loss='binary_crossentropy',\n",
    "              optimizer='adam',\n",
    "              metrics=['accuracy'])  "
   ]
  },
  {
   "cell_type": "code",
   "execution_count": 6,
   "metadata": {},
   "outputs": [
    {
     "name": "stdout",
     "output_type": "stream",
     "text": [
      "Epoch 1/10\n",
      "52/52 [==============================] - 224s 4s/step - loss: 1.0501 - acc: 0.5066 - val_loss: 0.6909 - val_acc: 0.5208\n",
      "Epoch 2/10\n",
      "52/52 [==============================] - 203s 4s/step - loss: 0.6878 - acc: 0.5568 - val_loss: 0.6904 - val_acc: 0.5079\n",
      "Epoch 3/10\n",
      "52/52 [==============================] - 203s 4s/step - loss: 0.6900 - acc: 0.5702 - val_loss: 0.7084 - val_acc: 0.4974\n",
      "Epoch 4/10\n",
      "52/52 [==============================] - 203s 4s/step - loss: 0.6375 - acc: 0.6249 - val_loss: 0.7138 - val_acc: 0.5497\n",
      "Epoch 5/10\n",
      "52/52 [==============================] - 202s 4s/step - loss: 0.6069 - acc: 0.6432 - val_loss: 0.7297 - val_acc: 0.5393\n",
      "Epoch 6/10\n",
      "52/52 [==============================] - 203s 4s/step - loss: 0.5253 - acc: 0.7217 - val_loss: 0.9011 - val_acc: 0.5236\n",
      "Epoch 7/10\n",
      "52/52 [==============================] - 202s 4s/step - loss: 0.4542 - acc: 0.7740 - val_loss: 0.8941 - val_acc: 0.5445\n",
      "Epoch 8/10\n",
      "52/52 [==============================] - 204s 4s/step - loss: 0.3641 - acc: 0.8357 - val_loss: 1.0687 - val_acc: 0.5417\n",
      "Epoch 9/10\n",
      "52/52 [==============================] - 204s 4s/step - loss: 0.2949 - acc: 0.8710 - val_loss: 1.1307 - val_acc: 0.5079\n",
      "Epoch 10/10\n",
      "52/52 [==============================] - 203s 4s/step - loss: 0.2370 - acc: 0.8993 - val_loss: 1.3047 - val_acc: 0.5812\n"
     ]
    }
   ],
   "source": [
    "STEP_SIZE_TRAIN=train_generator.n//train_generator.batch_size\n",
    "STEP_SIZE_VALID=valid_generator.n//valid_generator.batch_size\n",
    "\n",
    "history = model.fit_generator(\n",
    "    generator=train_generator,\n",
    "    steps_per_epoch=STEP_SIZE_TRAIN,\n",
    "    validation_data=valid_generator,\n",
    "    validation_steps=STEP_SIZE_VALID,\n",
    "    epochs=10)"
   ]
  },
  {
   "cell_type": "code",
   "execution_count": 7,
   "metadata": {},
   "outputs": [
    {
     "data": {
      "image/png": "[encoded data removed]",
      "text/plain": [
       "<Figure size 432x288 with 1 Axes>"
      ]
     },
     "metadata": {
      "needs_background": "light"
     },
     "output_type": "display_data"
    },
    {
     "data": {
      "image/png": "[encoded data removed]",
      "text/plain": [
       "<Figure size 432x288 with 1 Axes>"
      ]
     },
     "metadata": {
      "needs_background": "light"
     },
     "output_type": "display_data"
    }
   ],
   "source": [
    "import matplotlib.pyplot as plt\n",
    "%matplotlib inline\n",
    "\n",
    "def plot_history(history):\n",
    "    # print(history.history.keys())\n",
    "\n",
    "    plt.plot(history.history['acc'])\n",
    "    plt.plot(history.history['val_acc'])\n",
    "    plt.title('model accuracy')\n",
    "    plt.xlabel('epoch')\n",
    "    plt.ylabel('accuracy')\n",
    "    plt.legend(['acc', 'val_acc'], loc='lower right')\n",
    "    plt.show()\n",
    "\n",
    "    plt.plot(history.history['loss'])\n",
    "    plt.plot(history.history['val_loss'])\n",
    "    plt.title('model loss')\n",
    "    plt.xlabel('epoch')\n",
    "    plt.ylabel('loss')\n",
    "    plt.legend(['loss', 'val_loss'], loc='lower right')\n",
    "    plt.show()\n",
    "\n",
    "plot_history(history)"
   ]
  },
  {
   "cell_type": "code",
   "execution_count": 9,
   "metadata": {},
   "outputs": [],
   "source": [
    "import numpy as np\n",
    "np.savez('../plots/LeNet_train', acc=history.history['acc'], loss=history.history['loss'])\n",
    "np.savez('../plots/LeNet_valid', acc=history.history['val_acc'], loss=history.history['val_loss'])"
   ]
  },
  {
   "cell_type": "code",
   "execution_count": null,
   "metadata": {},
   "outputs": [],
   "source": []
  }
 ],
 "metadata": {
  "kernelspec": {
   "display_name": "Python 3",
   "language": "python",
   "name": "python3"
  },
  "language_info": {
   "codemirror_mode": {
    "name": "ipython",
    "version": 3
   },
   "file_extension": ".py",
   "mimetype": "text/x-python",
   "name": "python",
   "nbconvert_exporter": "python",
   "pygments_lexer": "ipython3",
   "version": "3.6.6"
  }
 },
 "nbformat": 4,
 "nbformat_minor": 2
}
